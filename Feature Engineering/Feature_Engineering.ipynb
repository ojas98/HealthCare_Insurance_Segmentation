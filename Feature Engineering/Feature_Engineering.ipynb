{
 "cells": [
  {
   "cell_type": "code",
   "execution_count": 4,
   "id": "edf8b605-9dc3-42e8-a6e0-e60a2336ebed",
   "metadata": {},
   "outputs": [],
   "source": [
    "import pandas as pd"
   ]
  },
  {
   "cell_type": "code",
   "execution_count": null,
   "id": "66119725-4b40-4cbe-95bb-b7c44b47b670",
   "metadata": {},
   "outputs": [],
   "source": [
    "#STEP 1 :- Importing the data"
   ]
  },
  {
   "cell_type": "code",
   "execution_count": 2,
   "id": "2dc602c5-94ce-4c26-b532-e0d9e297f4e2",
   "metadata": {},
   "outputs": [],
   "source": [
    "df=pd.read_csv(r'~/Desktop/HealthCare_Insurance_Segmentation/Datasets/data_cleaned.csv')"
   ]
  },
  {
   "cell_type": "code",
   "execution_count": 3,
   "id": "a74e7edf-8ca8-4968-a5ac-1b0e67f61633",
   "metadata": {},
   "outputs": [],
   "source": [
    "df_new=df.drop([\"Claim_Cancellation\",\"Renewal\"], axis=1)"
   ]
  },
  {
   "cell_type": "code",
   "execution_count": null,
   "id": "e7489757-32ad-430b-8395-7f3f10fb1b9c",
   "metadata": {},
   "outputs": [],
   "source": [
    "#STEP 2 :- Standardizing"
   ]
  },
  {
   "cell_type": "code",
   "execution_count": 5,
   "id": "8b367150-f9cc-46e9-9837-d000839ee3bb",
   "metadata": {},
   "outputs": [],
   "source": [
    "from sklearn.preprocessing import scale\n",
    "df_scale=scale(df_new)"
   ]
  },
  {
   "cell_type": "code",
   "execution_count": 6,
   "id": "109ac5d7-5e9b-47fd-98b6-8bd3c75b74c4",
   "metadata": {},
   "outputs": [],
   "source": [
    "#STEP 3 :- PCA "
   ]
  },
  {
   "cell_type": "code",
   "execution_count": 15,
   "id": "a5ba3136-2f79-4f5f-8a42-cb693a5afe9d",
   "metadata": {},
   "outputs": [
    {
     "name": "stdout",
     "output_type": "stream",
     "text": [
      "Variance Ratio:  [10.61 18.16 24.28 29.85 35.03 39.1  42.73 46.25 49.63 52.86 56.06 59.17\n",
      " 62.19 65.18 68.14 71.06 73.89 76.67 79.28 81.88 84.45 86.88 89.26 91.58\n",
      " 93.58 95.49 96.47 97.29 97.98 98.62 99.09 99.54 99.89 99.99]\n"
     ]
    }
   ],
   "source": [
    "import matplotlib.pyplot as plt\n",
    "from sklearn.decomposition import PCA\n",
    "import numpy as np\n",
    "\n",
    "pca = PCA(n_components=34)  # Principal component on 35 columns\n",
    "pca_values = pca.fit_transform(df_scale)\n",
    "var = pca.explained_variance_ratio_\n",
    "var1 = np.cumsum(np.round(var, decimals=4) * 100)\n",
    "print(\"Variance Ratio: \", var1)"
   ]
  },
  {
   "cell_type": "code",
   "execution_count": 8,
   "id": "fe7f2bb3-01f4-4f06-9fb7-d461ed030f1a",
   "metadata": {},
   "outputs": [
    {
     "data": {
      "text/plain": [
       "[<matplotlib.lines.Line2D at 0x126d35390>]"
      ]
     },
     "execution_count": 8,
     "metadata": {},
     "output_type": "execute_result"
    },
    {
     "data": {
      "image/png": "[encoded data removed]",
      "text/plain": [
       "<Figure size 640x480 with 1 Axes>"
      ]
     },
     "metadata": {},
     "output_type": "display_data"
    }
   ],
   "source": [
    "# Variance plot for PCA components obtained \n",
    "plt.plot(var1, color = \"red\")"
   ]
  },
  {
   "cell_type": "code",
   "execution_count": 11,
   "id": "0a13adaf-43e1-441e-9b88-3156f5cc70ab",
   "metadata": {},
   "outputs": [],
   "source": [
    "pca_data = pd.DataFrame(pca_values)"
   ]
  },
  {
   "cell_type": "code",
   "execution_count": 14,
   "id": "6bc861cf-771b-480d-8c6f-883c79a88460",
   "metadata": {},
   "outputs": [],
   "source": [
    "# Naming the PCA columns\n",
    "name = []\n",
    "for i in range(1, 35):\n",
    "    a = \"PC\" + str(i)\n",
    "    name.append(a)\n",
    "pca_data.columns = name\n",
    "# Considering only 26 PCA as they summarize 91% of the data, so dropping 9 PCA\n",
    "final = pd.concat([pca_data.iloc[:, 0:25], df[\"Renewal\"]], axis=1)"
   ]
  },
  {
   "cell_type": "code",
   "execution_count": 17,
   "id": "a50d1205-c5c3-48dd-845b-ea716edfebab",
   "metadata": {},
   "outputs": [],
   "source": [
    "df.to_csv(r'~/Desktop/HealthCare_Insurance_Segmentation/Datasets/FE_data.csv', index=False)"
   ]
  }
 ],
 "metadata": {
  "kernelspec": {
   "display_name": "Python 3 (ipykernel)",
   "language": "python",
   "name": "python3"
  },
  "language_info": {
   "codemirror_mode": {
    "name": "ipython",
    "version": 3
   },
   "file_extension": ".py",
   "mimetype": "text/x-python",
   "name": "python",
   "nbconvert_exporter": "python",
   "pygments_lexer": "ipython3",
   "version": "3.11.7"
  }
 },
 "nbformat": 4,
 "nbformat_minor": 5
}
