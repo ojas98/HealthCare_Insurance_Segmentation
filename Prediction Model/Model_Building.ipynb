{
 "cells": [
  {
   "cell_type": "code",
   "execution_count": 51,
   "id": "484caad2-64eb-4f19-a6c4-6883dc442643",
   "metadata": {},
   "outputs": [],
   "source": [
    "#Step-1: Reading the data which was saved before\n",
    "\n",
    "import pandas as pd\n",
    "\n",
    "df=pd.read_csv(r'~/Desktop/HealthCare_Insurance_Segmentation/Datasets/FE_data.csv')\n",
    "\n"
   ]
  },
  {
   "cell_type": "code",
   "execution_count": 52,
   "id": "0a0d6ea2-8245-49bc-a384-0abb8b74e7b9",
   "metadata": {},
   "outputs": [],
   "source": [
    "#Step-2: Train and Test Split\n",
    "\n",
    "from sklearn.model_selection import train_test_split\n",
    "import numpy as np\n",
    "\n",
    "X=df.iloc[:,0:-1]\n",
    "Y=df[\"Renewal\"]"
   ]
  },
  {
   "cell_type": "code",
   "execution_count": 53,
   "id": "2e194c6c-ce22-42e7-992d-26e2f8e2d9cc",
   "metadata": {},
   "outputs": [],
   "source": [
    "#Considering the 30% for test dataset\n",
    "X_train,X_test,Y_train,Y_test=train_test_split(X,Y,test_size=0.3,random_state=0)"
   ]
  },
  {
   "cell_type": "code",
   "execution_count": 54,
   "id": "dea78b72-9ac0-4ae5-bd79-afc6990398f8",
   "metadata": {},
   "outputs": [
    {
     "data": {
      "text/plain": [
       "[<matplotlib.lines.Line2D at 0x155683a90>]"
      ]
     },
     "execution_count": 54,
     "metadata": {},
     "output_type": "execute_result"
    },
    {
     "data": {
      "image/png": "[encoded data removed]",
      "text/plain": [
       "<Figure size 640x480 with 1 Axes>"
      ]
     },
     "metadata": {},
     "output_type": "display_data"
    }
   ],
   "source": [
    "########################################################\n",
    "#################### Shallow Models ####################\n",
    "\n",
    "##### KNN \n",
    "\n",
    "#Selection of \"K\" Value\n",
    "import matplotlib.pyplot as plt\n",
    "from sklearn.metrics import confusion_matrix\n",
    "from sklearn.neighbors import KNeighborsClassifier\n",
    "from sklearn.metrics import accuracy_score\n",
    "from sklearn.metrics import f1_score\n",
    "acc=[]\n",
    "for i in range(3,21,2):\n",
    "    knn= KNeighborsClassifier(n_neighbors=i).fit(X_train,Y_train)\n",
    "    train_acc = accuracy_score(knn.predict(X_train),Y_train)\n",
    "    test_acc = accuracy_score(knn.predict(X_test),Y_test)\n",
    "    acc.append([train_acc, test_acc])\n",
    "    \n",
    "#Checking the right fit for \"K\" value\n",
    "# train accuracy plot \n",
    "plt.plot(np.arange(3,21,2),[i[0] for i in acc],\"ro-\")\n",
    "# test accuracy plot\n",
    "plt.plot(np.arange(3,21,2),[i[1] for i in acc],\"bo-\")"
   ]
  },
  {
   "cell_type": "code",
   "execution_count": 55,
   "id": "3fa7020d-c831-421c-81d2-e7eaf4e385fd",
   "metadata": {},
   "outputs": [],
   "source": [
    "#Selecting the K=9 from the graph\n",
    "knn= KNeighborsClassifier(n_neighbors=9).fit(X_train,Y_train)"
   ]
  },
  {
   "cell_type": "code",
   "execution_count": 56,
   "id": "b331835c-4753-4032-b102-70249a4ffb58",
   "metadata": {},
   "outputs": [
    {
     "name": "stdout",
     "output_type": "stream",
     "text": [
      "[[211 130]\n",
      " [106 253]]\n",
      "K-Nearest Neighour Train Accuracy:  66.29%\n"
     ]
    }
   ],
   "source": [
    "# Evaluation on Training Data\n",
    "print(confusion_matrix(Y_train, knn.predict(X_train)))\n",
    "knn_train_acc = accuracy_score(knn.predict(X_train),Y_train)\n",
    "print(\"K-Nearest Neighour Train Accuracy: \",\"{:.2%}\".format(knn_train_acc))\n",
    "knn_train_f1 = f1_score(knn.predict(X_train),Y_train)"
   ]
  },
  {
   "cell_type": "code",
   "execution_count": 57,
   "id": "d4ae8650-76c6-483e-947e-735e32eecd32",
   "metadata": {},
   "outputs": [
    {
     "name": "stdout",
     "output_type": "stream",
     "text": [
      "[[66 83]\n",
      " [73 78]]\n",
      "K-Nearest Neighour Test Accuracy:  48.00%\n"
     ]
    }
   ],
   "source": [
    "# Evaluation on Testing Data\n",
    "print(confusion_matrix(Y_test,knn.predict(X_test)))\n",
    "knn_test_acc = accuracy_score(knn.predict(X_test),Y_test)\n",
    "print(\"K-Nearest Neighour Test Accuracy: \",\"{:.2%}\".format(knn_test_acc))\n",
    "knn_test_f1 = f1_score(knn.predict(X_test),Y_test)"
   ]
  },
  {
   "cell_type": "code",
   "execution_count": 58,
   "id": "ad114d2c-2984-4154-94ba-80bf3856902b",
   "metadata": {},
   "outputs": [
    {
     "name": "stdout",
     "output_type": "stream",
     "text": [
      "[[139 202]\n",
      " [121 238]]\n",
      "Naive Bayes Train Accuracy:  53.86%\n",
      "[[ 53  96]\n",
      " [ 49 102]]\n",
      "Naive Bayes Test Accuracy:  51.67%\n"
     ]
    }
   ],
   "source": [
    "##### Naive Bayes\n",
    "from sklearn.naive_bayes import GaussianNB\n",
    "\n",
    "nb=GaussianNB().fit(X_train,Y_train)\n",
    "\n",
    "# Evaluation on Training Data\n",
    "print(confusion_matrix(Y_train, nb.predict(X_train)))\n",
    "nb_train_acc = accuracy_score(nb.predict(X_train),Y_train)\n",
    "print(\"Naive Bayes Train Accuracy: \",\"{:.2%}\".format(nb_train_acc))\n",
    "nb_train_f1 = f1_score(nb.predict(X_train),Y_train)\n",
    "\n",
    "# Evaluation on Testing Data\n",
    "print(confusion_matrix(Y_test,nb.predict(X_test)))\n",
    "nb_test_acc = accuracy_score(nb.predict(X_test),Y_test)\n",
    "print(\"Naive Bayes Test Accuracy: \",\"{:.2%}\".format(nb_test_acc))\n",
    "nb_test_f1 = f1_score(nb.predict(X_test),Y_test)"
   ]
  },
  {
   "cell_type": "code",
   "execution_count": 59,
   "id": "0df5c992-da35-4b37-9972-7b8e01a91b62",
   "metadata": {},
   "outputs": [
    {
     "name": "stdout",
     "output_type": "stream",
     "text": [
      "[[341   0]\n",
      " [  0 359]]\n",
      "Decision Tree Train Accuracy:  100.00%\n",
      "[[70 79]\n",
      " [61 90]]\n",
      "Decision Tree Test Accuracy:  53.33%\n"
     ]
    }
   ],
   "source": [
    "##### Decision Tree\n",
    "from sklearn.tree import DecisionTreeClassifier\n",
    "\n",
    "dtc=DecisionTreeClassifier().fit(X_train,Y_train)\n",
    "\n",
    "# Evaluation on Training Data\n",
    "print(confusion_matrix(Y_train, dtc.predict(X_train)))\n",
    "dtc_train_acc = accuracy_score(dtc.predict(X_train),Y_train)\n",
    "print(\"Decision Tree Train Accuracy: \",\"{:.2%}\".format(dtc_train_acc))\n",
    "dtc_train_f1 = f1_score(dtc.predict(X_train),Y_train)\n",
    "\n",
    "# Evaluation on Testing Data\n",
    "print(confusion_matrix(Y_test,dtc.predict(X_test)))\n",
    "dtc_test_acc = accuracy_score(dtc.predict(X_test),Y_test)\n",
    "print(\"Decision Tree Test Accuracy: \",\"{:.2%}\".format(dtc_test_acc))\n",
    "dtc_test_f1 = f1_score(dtc.predict(X_test),Y_test)\n"
   ]
  },
  {
   "cell_type": "code",
   "execution_count": 60,
   "id": "f7b27a02-78db-4019-b7f5-acda04d43d8c",
   "metadata": {},
   "outputs": [
    {
     "name": "stdout",
     "output_type": "stream",
     "text": [
      "[[  7 334]\n",
      " [  7 352]]\n",
      "Logistic Regression Train Accuracy:  51.29%\n",
      "[[  3 146]\n",
      " [  4 147]]\n",
      "Logistic Regression Test Accuracy:  50.00%\n"
     ]
    }
   ],
   "source": [
    "#############################################################\n",
    "#################### Logistic Regression ####################\n",
    "\n",
    "from sklearn.linear_model import LogisticRegression\n",
    "\n",
    "logit=LogisticRegression().fit(X_train,Y_train)\n",
    "\n",
    "# Evaluation on Training Data\n",
    "print(confusion_matrix(Y_train, logit.predict(X_train)))\n",
    "logit_train_acc = accuracy_score(logit.predict(X_train),Y_train)\n",
    "print(\"Logistic Regression Train Accuracy: \",\"{:.2%}\".format(logit_train_acc))\n",
    "logit_train_f1 = f1_score(logit.predict(X_train),Y_train)\n",
    "\n",
    "# Evaluation on Testing Data\n",
    "print(confusion_matrix(Y_test,logit.predict(X_test)))\n",
    "logit_test_acc = accuracy_score(logit.predict(X_test),Y_test)\n",
    "print(\"Logistic Regression Test Accuracy: \",\"{:.2%}\".format(logit_test_acc))\n",
    "logit_test_f1 = f1_score(logit.predict(X_test),Y_test)"
   ]
  },
  {
   "cell_type": "code",
   "execution_count": 61,
   "id": "c1aa8c3b-2e09-4431-8bca-820f54447269",
   "metadata": {},
   "outputs": [
    {
     "name": "stdout",
     "output_type": "stream",
     "text": [
      "[[  0 341]\n",
      " [  0 359]]\n",
      "Support  Vector Machine Train Accuracy:  51.29%\n",
      "[[  0 149]\n",
      " [  0 151]]\n",
      "Support Vector Machine Test Accuracy:  50.33%\n"
     ]
    }
   ],
   "source": [
    "#############################################################\n",
    "#################### Black Box Technique #################### \n",
    "\n",
    "##### SVM  \n",
    "from sklearn.svm import SVC\n",
    "\n",
    "bb=SVC(kernel=\"rbf\").fit(X_train,Y_train)\n",
    "\n",
    "# Evaluation on Training Data\n",
    "print(confusion_matrix(Y_train, bb.predict(X_train)))\n",
    "bb_train_acc = accuracy_score(bb.predict(X_train),Y_train)\n",
    "print(\"Support  Vector Machine Train Accuracy: \",\"{:.2%}\".format(bb_train_acc))\n",
    "bb_train_f1 = f1_score(bb.predict(X_train),Y_train)\n",
    "\n",
    "# Evaluation on Testing Data\n",
    "print(confusion_matrix(Y_test,bb.predict(X_test)))\n",
    "bb_test_acc = accuracy_score(bb.predict(X_test),Y_test)\n",
    "print(\"Support Vector Machine Test Accuracy: \",\"{:.2%}\".format(bb_test_acc))\n",
    "bb_test_f1 = f1_score(bb.predict(X_test),Y_test)"
   ]
  },
  {
   "cell_type": "code",
   "execution_count": 68,
   "id": "a4279960-bf63-4836-a986-c827fa68f2db",
   "metadata": {},
   "outputs": [],
   "source": [
    "##### Neural Network - MLP\n",
    "import tensorflow as tf\n",
    "from tensorflow import keras\n",
    "from tensorflow.keras.layers import Dense, Input\n",
    "from keras.models import Sequential\n",
    "from keras.layers import Dense\n",
    "import numpy as np\n",
    "\n",
    "\n",
    "np.random.seed(10)\n",
    "\n",
    "from sklearn.model_selection import train_test_split\n",
    "\n",
    "train,test = train_test_split(df, test_size = 0.20,random_state=0)\n",
    "\n",
    "x_train = train.iloc[:,0:25].values\n",
    "x_test = test.iloc[:,0:25].values\n",
    "y_train = train.Renewal.values\n",
    "y_test = test.Renewal.values"
   ]
  },
  {
   "cell_type": "code",
   "execution_count": 69,
   "id": "e439cda0-661d-4a45-9f32-60ec55e85601",
   "metadata": {},
   "outputs": [
    {
     "data": {
      "text/plain": [
       "(200, 2)"
      ]
     },
     "execution_count": 69,
     "metadata": {},
     "output_type": "execute_result"
    }
   ],
   "source": [
    "# Normalizing the inputs to fall under 0-1 \n",
    "from sklearn.preprocessing import scale\n",
    "\n",
    "x_train = scale(x_train)\n",
    "x_test = scale(x_test)\n",
    "\n",
    "# one hot encoding outputs for both train and test data sets \n",
    "y_train = pd.get_dummies(y_train)\n",
    "y_test = pd.get_dummies(y_test)\n",
    "\n",
    "# Storing the number of classes into the variable num_of_classes \n",
    "y_test.shape\n",
    "num_of_classes = y_test.shape[1]\n",
    "x_train.shape\n",
    "y_train.shape\n",
    "x_test.shape\n",
    "y_test.shape"
   ]
  },
  {
   "cell_type": "code",
   "execution_count": 76,
   "id": "0e271c60-6f91-4762-8682-d604f1f7250b",
   "metadata": {},
   "outputs": [],
   "source": [
    "from tensorflow.keras.models import Sequential\n",
    "from tensorflow.keras.layers import Dense\n",
    "\n",
    "def design_mlp(num_of_classes, input_dim=25):\n",
    "    # Initializing the model\n",
    "    model = Sequential()\n",
    "    model.add(Dense(100, input_dim=input_dim, activation=\"relu\"))\n",
    "    model.add(Dense(200, activation=\"tanh\"))\n",
    "    model.add(Dense(300, activation=\"tanh\"))\n",
    "    model.add(Dense(500, activation=\"tanh\"))\n",
    "    model.add(Dense(num_of_classes, activation=\"softmax\"))\n",
    "    model.compile(loss=\"categorical_crossentropy\", optimizer=\"adam\", metrics=[\"accuracy\"])\n",
    "    return model"
   ]
  },
  {
   "cell_type": "code",
   "execution_count": 77,
   "id": "757cb85c-7695-4210-958a-7c2a2bf6e591",
   "metadata": {},
   "outputs": [
    {
     "ename": "TypeError",
     "evalue": "design_mlp() missing 1 required positional argument: 'num_of_classes'",
     "output_type": "error",
     "traceback": [
      "\u001b[0;31m---------------------------------------------------------------------------\u001b[0m",
      "\u001b[0;31mTypeError\u001b[0m                                 Traceback (most recent call last)",
      "Cell \u001b[0;32mIn[77], line 3\u001b[0m\n\u001b[1;32m      1\u001b[0m \u001b[38;5;28;01mimport\u001b[39;00m \u001b[38;5;21;01mkeras\u001b[39;00m\u001b[38;5;21;01m.\u001b[39;00m\u001b[38;5;21;01mbackend\u001b[39;00m \u001b[38;5;28;01mas\u001b[39;00m \u001b[38;5;21;01mK\u001b[39;00m\n\u001b[1;32m      2\u001b[0m \u001b[38;5;66;03m##building a cnn model using train data set and validating on test data set\u001b[39;00m\n\u001b[0;32m----> 3\u001b[0m ann \u001b[38;5;241m=\u001b[39m design_mlp()\n\u001b[1;32m      4\u001b[0m ann\u001b[38;5;241m.\u001b[39mfit(x\u001b[38;5;241m=\u001b[39mx_train,y\u001b[38;5;241m=\u001b[39my_train,batch_size\u001b[38;5;241m=\u001b[39m\u001b[38;5;241m20\u001b[39m,epochs\u001b[38;5;241m=\u001b[39m\u001b[38;5;241m10\u001b[39m)\n\u001b[1;32m      6\u001b[0m \u001b[38;5;66;03m# Evaluation on Training Data\u001b[39;00m\n",
      "\u001b[0;31mTypeError\u001b[0m: design_mlp() missing 1 required positional argument: 'num_of_classes'"
     ]
    }
   ],
   "source": [
    "import keras.backend as K\n",
    "##building a cnn model using train data set and validating on test data set\n",
    "ann = design_mlp()\n",
    "ann.fit(x=x_train,y=y_train,batch_size=20,epochs=10)\n",
    "\n",
    "# Evaluation on Training Data\n",
    "ann_train_acc = ann.evaluate(x_train,y_train,verbose=1)\n",
    "print (\"ANN Train Accuracy: %.2f%%\" %(ann_train_acc[1]*100)) \n",
    "ann_train_f1= 0\n",
    "\n",
    "# Evaluation on Testing Data\n",
    "ann_test_acc = ann.evaluate(x_test,y_test,verbose = 1)\n",
    "print (\"ANN Test Accuracy: %.2f%%\" %(ann_test_acc[1]*100)) \n",
    "ann_test_f1= 0"
   ]
  },
  {
   "cell_type": "code",
   "execution_count": 78,
   "id": "6d02f2fa-26cc-4a9b-a7bf-274f2090667f",
   "metadata": {},
   "outputs": [
    {
     "data": {
      "image/png": "[encoded data removed]",
      "text/plain": [
       "<Figure size 640x480 with 1 Axes>"
      ]
     },
     "metadata": {},
     "output_type": "display_data"
    },
    {
     "name": "stdout",
     "output_type": "stream",
     "text": [
      "[[341   0]\n",
      " [  0 359]]\n",
      "Random Forest Train Accuracy:  100.00%\n",
      "[[66 83]\n",
      " [61 90]]\n",
      "Random Forest Test Accuracy:  52.00%\n"
     ]
    }
   ],
   "source": [
    "##### Random Forest\n",
    "from matplotlib import pyplot\n",
    "from sklearn.ensemble import RandomForestClassifier\n",
    "\n",
    "rfc=RandomForestClassifier(n_estimators=500,criterion=\"entropy\").fit(X_train,Y_train)\n",
    "important_features=rfc.feature_importances_\n",
    "important=[]\n",
    "values=[]\n",
    "for i,v in enumerate(important_features):\n",
    "    e=df.columns[i]\n",
    "    important.append(e)\n",
    "    values.append(v)\n",
    "features_selection=pd.DataFrame({\"Feature\":important,\"Importance_Value\":values})\n",
    "features_selection.sort_values(by=\"Importance_Value\",ascending=False,inplace=True)\n",
    "\n",
    "# plot feature importance\n",
    "pyplot.bar([x for x in range(len(important_features))], important_features)\n",
    "pyplot.show()\n",
    "# Evaluation on Training Data\n",
    "print(confusion_matrix(Y_train, rfc.predict(X_train)))\n",
    "rfc_train_acc = accuracy_score(rfc.predict(X_train),Y_train)\n",
    "print(\"Random Forest Train Accuracy: \",\"{:.2%}\".format(rfc_train_acc))\n",
    "rfc_train_f1 = f1_score(rfc.predict(X_train),Y_train)\n",
    "# Evaluation on Testing Data\n",
    "print(confusion_matrix(Y_test,rfc.predict(X_test)))\n",
    "rfc_test_acc = accuracy_score(rfc.predict(X_test),Y_test)\n",
    "print(\"Random Forest Test Accuracy: \",\"{:.2%}\".format(rfc_test_acc))\n",
    "rfc_test_f1 = f1_score(rfc.predict(X_test),Y_test)"
   ]
  },
  {
   "cell_type": "code",
   "execution_count": 79,
   "id": "87e1f4cb-9f92-42a8-88aa-6fb400ffacf5",
   "metadata": {},
   "outputs": [
    {
     "name": "stderr",
     "output_type": "stream",
     "text": [
      "/opt/anaconda3/lib/python3.11/site-packages/sklearn/ensemble/_base.py:166: FutureWarning: `base_estimator` was renamed to `estimator` in version 1.2 and will be removed in 1.4.\n",
      "  warnings.warn(\n"
     ]
    },
    {
     "name": "stdout",
     "output_type": "stream",
     "text": [
      "[[341   0]\n",
      " [  0 359]]\n",
      "Ada Boost Train Accuracy:  100.00%\n",
      "[[79 70]\n",
      " [66 85]]\n",
      "Ada Boost Test Accuracy:  54.67%\n"
     ]
    }
   ],
   "source": [
    "##### Ada Boost\n",
    "\n",
    "from sklearn.ensemble import AdaBoostClassifier\n",
    "\n",
    "a=RandomForestClassifier()\n",
    "ad=AdaBoostClassifier(base_estimator=a,n_estimators=100,learning_rate=0.2).fit(X_train,Y_train)\n",
    "\n",
    "# Evaluation on Training Data\n",
    "print(confusion_matrix(Y_train, ad.predict(X_train)))\n",
    "ad_train_acc = accuracy_score(ad.predict(X_train),Y_train)\n",
    "print(\"Ada Boost Train Accuracy: \",\"{:.2%}\".format(ad_train_acc))\n",
    "ad_train_f1 = f1_score(ad.predict(X_train),Y_train)\n",
    "\n",
    "# Evaluation on Testing Data\n",
    "print(confusion_matrix(Y_test,ad.predict(X_test)))\n",
    "ad_test_acc = accuracy_score(ad.predict(X_test),Y_test)\n",
    "print(\"Ada Boost Test Accuracy: \",\"{:.2%}\".format(ad_test_acc))\n",
    "ad_test_f1 = f1_score(ad.predict(X_test),Y_test)\n"
   ]
  },
  {
   "cell_type": "code",
   "execution_count": 80,
   "id": "b9440180-a9d2-41b8-ba30-e1cac71fdc00",
   "metadata": {},
   "outputs": [
    {
     "name": "stderr",
     "output_type": "stream",
     "text": [
      "/opt/anaconda3/lib/python3.11/site-packages/xgboost/core.py:160: UserWarning: [02:12:51] WARNING: /Users/runner/work/xgboost/xgboost/src/learner.cc:742: \n",
      "Parameters: { \"max_depths\" } are not used.\n",
      "\n",
      "  warnings.warn(smsg, UserWarning)\n"
     ]
    },
    {
     "name": "stdout",
     "output_type": "stream",
     "text": [
      "[[341   0]\n",
      " [  0 359]]\n",
      "Extreme Gradient Boost Train Accuracy:  100.00%\n",
      "[[76 73]\n",
      " [64 87]]\n",
      "Extreme Gradient Boost Test Accuracy:  54.33%\n"
     ]
    }
   ],
   "source": [
    "##### XGBoost\n",
    "\n",
    "import xgboost as xgb\n",
    "\n",
    "xgb_clf = xgb.XGBClassifier(max_depths = 5, n_estimators = 10000, learning_rate = 0.3, n_jobs = -1).fit(X_train,Y_train)\n",
    "\n",
    "# Evaluation on Training Data\n",
    "print(confusion_matrix(Y_train, xgb_clf.predict(X_train)))\n",
    "xgb_clf_train_acc = accuracy_score(xgb_clf.predict(X_train),Y_train)\n",
    "print(\"Extreme Gradient Boost Train Accuracy: \",\"{:.2%}\".format(xgb_clf_train_acc))\n",
    "xgb_clf_train_f1 = f1_score(xgb_clf.predict(X_train),Y_train)\n",
    "\n",
    "# Evaluation on Testing Data\n",
    "print(confusion_matrix(Y_test,xgb_clf.predict(X_test)))\n",
    "xgb_clf_test_acc = accuracy_score(xgb_clf.predict(X_test),Y_test)\n",
    "print(\"Extreme Gradient Boost Test Accuracy: \",\"{:.2%}\".format(xgb_clf_test_acc))\n",
    "xgb_clf_test_f1 = f1_score(xgb_clf.predict(X_test),Y_test)"
   ]
  },
  {
   "cell_type": "code",
   "execution_count": 83,
   "id": "b1873002-90a7-41c8-90d3-5bf0db8468b3",
   "metadata": {},
   "outputs": [
    {
     "name": "stdout",
     "output_type": "stream",
     "text": [
      "[[205 136]\n",
      " [159 200]]\n",
      "Stacking Train Accuracy:  57.86%\n",
      "[[79 70]\n",
      " [76 75]]\n",
      "Stacking Test Accuracy:  51.33%\n"
     ]
    }
   ],
   "source": [
    "##### Stacking\n",
    "\n",
    "from sklearn.ensemble import StackingClassifier\n",
    "\n",
    "estimators = [('rf',SVC(kernel=\"rbf\")),(\"lgr\",LogisticRegression()),(\"dt\",DecisionTreeClassifier())]\n",
    "\n",
    "st_clf= StackingClassifier(estimators=estimators, final_estimator= RandomForestClassifier(n_estimators=500)).fit(X_train,Y_train)\n",
    "\n",
    "# Evaluation on Training Data\n",
    "print(confusion_matrix(Y_train, st_clf.predict(X_train)))\n",
    "st_clf_train_acc = accuracy_score(st_clf.predict(X_train),Y_train)\n",
    "print(\"Stacking Train Accuracy: \",\"{:.2%}\".format(st_clf_train_acc))\n",
    "st_clf_train_f1 = f1_score(st_clf.predict(X_train),Y_train)\n",
    "\n",
    "# Evaluation on Testing Data\n",
    "print(confusion_matrix(Y_test,st_clf.predict(X_test)))\n",
    "st_clf_test_acc = accuracy_score(st_clf.predict(X_test),Y_test)\n",
    "print(\"Stacking Test Accuracy: \",\"{:.2%}\".format(st_clf_test_acc))\n",
    "st_clf_test_f1 = f1_score(st_clf.predict(X_test),Y_test)"
   ]
  },
  {
   "cell_type": "code",
   "execution_count": 89,
   "id": "a9d14ca0-3b4f-46da-a9fe-2178f7831062",
   "metadata": {},
   "outputs": [
    {
     "name": "stdout",
     "output_type": "stream",
     "text": [
      "                   Models  Accuracy of Train  Accuracy of Test  \\\n",
      "0     K-Nearest Neighbour          66.285714         48.000000   \n",
      "1             Naive Bayes          53.857143         51.666667   \n",
      "2           Decision Tree         100.000000         53.333333   \n",
      "3     Logistic Regression          51.285714         50.000000   \n",
      "4  Support Machine Vector          51.285714         50.333333   \n",
      "5          Neural Network        -100.000000       -100.000000   \n",
      "6           Random Forest         100.000000         52.000000   \n",
      "7               Ada Boost         100.000000         54.666667   \n",
      "8  Extreme Gradient Boost         100.000000         54.333333   \n",
      "9                Stacking          57.857143         51.333333   \n",
      "\n",
      "   F1 Score of Train  F1 Score of Test  \n",
      "0          68.194070         50.000000  \n",
      "1          59.574468         58.452722  \n",
      "2         100.000000         56.250000  \n",
      "3          67.368421         66.216216  \n",
      "4          67.799811         66.962306  \n",
      "5        -100.000000       -100.000000  \n",
      "6         100.000000         55.555556  \n",
      "7         100.000000         55.555556  \n",
      "8         100.000000         55.948553  \n",
      "9          57.553957         50.675676  \n"
     ]
    }
   ],
   "source": [
    "import pandas as pd\n",
    "\n",
    "# Assuming placeholders -1 for missing values (Neural Network accuracies and F1 scores)\n",
    "names = [\"K-Nearest Neighbour\", \"Naive Bayes\", \"Decision Tree\", \"Logistic Regression\", \"Support Machine Vector\", \"Neural Network\", \"Random Forest\", \"Ada Boost\", \"Extreme Gradient Boost\", \"Stacking\"]\n",
    "train_accuracy = [knn_train_acc, nb_train_acc, dtc_train_acc, logit_train_acc, bb_train_acc, -1, rfc_train_acc, ad_train_acc, xgb_clf_train_acc, st_clf_train_acc]\n",
    "test_accuracy = [knn_test_acc, nb_test_acc, dtc_test_acc, logit_test_acc, bb_test_acc, -1, rfc_test_acc, ad_test_acc, xgb_clf_test_acc, st_clf_test_acc]\n",
    "train_f1 = [knn_train_f1, nb_train_f1, dtc_train_f1, logit_train_f1, bb_train_f1, -1, rfc_train_f1, ad_train_f1, xgb_clf_train_f1, st_clf_train_f1]\n",
    "test_f1 = [knn_test_f1, nb_test_f1, dtc_test_f1, logit_test_f1, bb_test_f1, -1, rfc_test_f1, ad_test_f1, xgb_clf_test_f1, st_clf_test_f1]\n",
    "\n",
    "# Creating DataFrame\n",
    "Models = pd.DataFrame({\n",
    "    \"Models\": names,\n",
    "    \"Accuracy of Train\": train_accuracy,\n",
    "    \"Accuracy of Test\": test_accuracy,\n",
    "    \"F1 Score of Train\": train_f1,\n",
    "    \"F1 Score of Test\": test_f1\n",
    "})\n",
    "\n",
    "# Convert percentages\n",
    "Models[\"Accuracy of Train\"] *= 100\n",
    "Models[\"Accuracy of Test\"] *= 100\n",
    "Models[\"F1 Score of Train\"] *= 100\n",
    "Models[\"F1 Score of Test\"] *= 100\n",
    "\n",
    "print(Models)\n"
   ]
  },
  {
   "cell_type": "code",
   "execution_count": 90,
   "id": "62af9be2-2bd6-4c2e-b79d-bcbb9e426cda",
   "metadata": {},
   "outputs": [],
   "source": [
    "df.to_csv(r'~/Desktop/HealthCare_Insurance_Segmentation/Datasets/Models.csv', index=False)"
   ]
  },
  {
   "cell_type": "code",
   "execution_count": null,
   "id": "1f03691b-417b-40bb-985b-45254cab74f8",
   "metadata": {},
   "outputs": [],
   "source": []
  }
 ],
 "metadata": {
  "kernelspec": {
   "display_name": "Python 3 (ipykernel)",
   "language": "python",
   "name": "python3"
  },
  "language_info": {
   "codemirror_mode": {
    "name": "ipython",
    "version": 3
   },
   "file_extension": ".py",
   "mimetype": "text/x-python",
   "name": "python",
   "nbconvert_exporter": "python",
   "pygments_lexer": "ipython3",
   "version": "3.11.7"
  }
 },
 "nbformat": 4,
 "nbformat_minor": 5
}
